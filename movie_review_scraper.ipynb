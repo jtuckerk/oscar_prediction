{
 "cells": [
  {
   "cell_type": "code",
   "execution_count": 46,
   "metadata": {
    "collapsed": false
   },
   "outputs": [],
   "source": [
    "import urllib2\n",
    "import urllib\n",
    "from lxml import html\n",
    "import re\n",
    "list_o_movies = ['room', 'the-revenant-2015']\n",
    "\n",
    "mc= 'http://www.metacritic.com/movie/room/critic-reviews'"
   ]
  },
  {
   "cell_type": "code",
   "execution_count": 47,
   "metadata": {
    "collapsed": false
   },
   "outputs": [],
   "source": [
    "url = mc\n",
    "user_agent = 'Mozilla/5.0 (Windows NT 6.1; Win64; x64)'\n",
    "values = {'name' : 'Michael Foord',\n",
    "          'location' : 'Northampton',\n",
    "          'language' : 'Python' }\n",
    "headers = { 'User-Agent' : user_agent }\n",
    "\n",
    "data = urllib.urlencode(values)\n",
    "req = urllib2.Request(url, data, headers)\n",
    "response = urllib2.urlopen(req)\n",
    "the_page = response.read()"
   ]
  },
  {
   "cell_type": "code",
   "execution_count": 48,
   "metadata": {
    "collapsed": false
   },
   "outputs": [],
   "source": [
    "tree = html.fromstring(the_page)"
   ]
  },
  {
   "cell_type": "code",
   "execution_count": 52,
   "metadata": {
    "collapsed": false
   },
   "outputs": [
    {
     "data": {
      "text/plain": [
       "['\\n        \\n        ',\n",
       " '\\n    ',\n",
       " '\\n                        ',\n",
       " '\\n                    ',\n",
       " 'In Theaters',\n",
       " 'DVD / Blu-ray',\n",
       " 'Coming Soon',\n",
       " 'Trailers',\n",
       " '\\n                        ',\n",
       " '\\n                    ',\n",
       " 'PS4',\n",
       " 'Xbox One',\n",
       " 'PS3',\n",
       " 'Xbox 360',\n",
       " 'PC',\n",
       " 'Wii U',\n",
       " '3DS',\n",
       " 'PS Vita',\n",
       " 'iPhone/iPad',\n",
       " 'Legacy',\n",
       " '\\n                        ',\n",
       " '\\n                    ',\n",
       " '\\n                        ',\n",
       " '\\n                    ',\n",
       " '\\n                        ',\n",
       " '\\n                    ',\n",
       " 'New Releases',\n",
       " 'Coming Soon',\n",
       " 'High Scores',\n",
       " 'Browse A-Z',\n",
       " 'Publications',\n",
       " 'Critics',\n",
       " 'People',\n",
       " 'Trailers',\n",
       " 'Log In',\n",
       " 'Sign up',\n",
       " '\\n                        Room\\n                    ',\n",
       " '\\n                                                        Hart Sharp Video\\n                                                    ',\n",
       " 'Summary',\n",
       " 'User Reviews',\n",
       " 'Details & Credits',\n",
       " 'Trailers & Videos',\n",
       " '\\n',\n",
       " '\\n    ',\n",
       " '                            ',\n",
       " '\\n                        ',\n",
       " '                            ',\n",
       " '\\n                        ',\n",
       " '                            ',\n",
       " '\\n                        ',\n",
       " '\\n                        ',\n",
       " '\\n                    ',\n",
       " 'Austin Chronicle',\n",
       " 'Kimberley Jones',\n",
       " \"All this critic's reviews\",\n",
       " 'Read full review',\n",
       " 'TV Guide Magazine',\n",
       " 'Ken Fox',\n",
       " \"All this critic's reviews\",\n",
       " 'Read full review',\n",
       " 'New York Post',\n",
       " 'V.A. Musetto',\n",
       " \"All this critic's reviews\",\n",
       " 'Read full review',\n",
       " 'Variety',\n",
       " 'Scott Foundas',\n",
       " \"All this critic's reviews\",\n",
       " 'Read full review',\n",
       " 'Village Voice',\n",
       " \"All this publication's reviews\",\n",
       " 'Read full review',\n",
       " 'The New York Times',\n",
       " \"All this publication's reviews\",\n",
       " 'Read full review',\n",
       " 'Chicago Reader',\n",
       " 'J.R. Jones',\n",
       " \"All this critic's reviews\",\n",
       " 'Read full review',\n",
       " 'Chicago Tribune',\n",
       " \"All this publication's reviews\",\n",
       " 'Read full review',\n",
       " 'New Releases in Theaters',\n",
       " 'Coming Soon to Theaters',\n",
       " 'New on Amazon Instant Video',\n",
       " 'New on Netflix',\n",
       " 'New on DVD/Blu-ray',\n",
       " 'Coming Soon to DVD/Blu-ray',\n",
       " 'All-Time High Scores ',\n",
       " '2016 High Scores',\n",
       " 'Special Report: Metascores vs Box Office Performance',\n",
       " 'What Movie Should I See This Weekend?',\n",
       " 'Predict the Summer Movie Metascores',\n",
       " u'More articles \\xbb',\n",
       " 'User Reviews',\n",
       " u'All reviews \\xbb',\n",
       " '\\n',\n",
       " '\\n    ',\n",
       " '5 Ratings',\n",
       " '                            ',\n",
       " '\\n                        ',\n",
       " '                            ',\n",
       " '\\n                        ',\n",
       " u'Full Review \\xbb',\n",
       " u'Full Review \\xbb',\n",
       " u'Full Review \\xbb',\n",
       " u'See all user reviews \\xbb',\n",
       " 'Music title data, credits, and images provided by ',\n",
       " 'Movie title data, credits, and poster art provided by ',\n",
       " 'Video and Images provided by ',\n",
       " '\\n                                ',\n",
       " '\\n                            ',\n",
       " '\\n                                ',\n",
       " '\\n                            ',\n",
       " '\\n                                ',\n",
       " '\\n                            ',\n",
       " '\\n                                ',\n",
       " '\\n                            ',\n",
       " '\\n                                ',\n",
       " '\\n                            ',\n",
       " '\\n                                ',\n",
       " '\\n                            ',\n",
       " '\\n                                ',\n",
       " '\\n                            ',\n",
       " '\\n                                ',\n",
       " '\\n                            ',\n",
       " '\\n                                ',\n",
       " '\\n                            ',\n",
       " '\\n                                ',\n",
       " '\\n                            ',\n",
       " '\\n                                ',\n",
       " '\\n                            ',\n",
       " '\\n                                ',\n",
       " '\\n                            ',\n",
       " '\\n                                ',\n",
       " '\\n                            ',\n",
       " '\\n                                ',\n",
       " '\\n                            ',\n",
       " '\\n                                ',\n",
       " '\\n                            ',\n",
       " '\\n                                ',\n",
       " '\\n                            ',\n",
       " 'About CBS Interactive',\n",
       " 'Jobs',\n",
       " 'Advertise',\n",
       " 'FAQ',\n",
       " 'About Metacritic',\n",
       " 'Contact',\n",
       " 'Privacy Policy',\n",
       " 'Terms of Use']"
      ]
     },
     "execution_count": 52,
     "metadata": {},
     "output_type": "execute_result"
    }
   ],
   "source": [
    "tree.xpath('//a/text()')"
   ]
  },
  {
   "cell_type": "code",
   "execution_count": null,
   "metadata": {
    "collapsed": false
   },
   "outputs": [],
   "source": []
  },
  {
   "cell_type": "code",
   "execution_count": 16,
   "metadata": {
    "collapsed": false
   },
   "outputs": [],
   "source": [
    "#possibilities = re.findall('([^ ]+)=\"([^\"/]*(?=article|body|story).*?[^/]?)\"', tree.body,re.IGNORECASE)"
   ]
  },
  {
   "cell_type": "code",
   "execution_count": 17,
   "metadata": {
    "collapsed": false
   },
   "outputs": [],
   "source": [
    "path = '//li[@class=\"review_action full_review\"]/a/@href'\n",
    "links = tree.body.xpath(path)"
   ]
  },
  {
   "cell_type": "code",
   "execution_count": 18,
   "metadata": {
    "collapsed": false
   },
   "outputs": [],
   "source": [
    "import BeautifulSoup\n"
   ]
  },
  {
   "cell_type": "code",
   "execution_count": 26,
   "metadata": {
    "collapsed": false
   },
   "outputs": [],
   "source": [
    "r= 'http://www.imdb.com/find?ref_=nv_sr_fn&q=Room&s=all'\n",
    "url = r\n",
    "user_agent = 'Mozilla/5.0 (Windows NT 6.1; Win64; x64)'\n",
    "values = {'name' : 'Michael Foord',\n",
    "          'location' : 'Northampton',\n",
    "          'language' : 'Python' }\n",
    "headers = { 'User-Agent' : user_agent }\n",
    "\n",
    "data = urllib.urlencode(values)\n",
    "req = urllib2.Request(url, data, headers)\n",
    "response = urllib2.urlopen(req)\n",
    "\n"
   ]
  },
  {
   "cell_type": "code",
   "execution_count": 27,
   "metadata": {
    "collapsed": false
   },
   "outputs": [],
   "source": [
    "the_page = response.read()\n",
    "tree = html.fromstring(the_page)"
   ]
  },
  {
   "cell_type": "code",
   "execution_count": 35,
   "metadata": {
    "collapsed": false
   },
   "outputs": [],
   "source": [
    "name = '//td[@class=\"result_text\"]/a/text()'\n",
    "path = '//td[@class=\"result_text\"]/a/@href'\n",
    "years = '//td[@class=\"result_text\"]/text()'\n",
    "full = '//td[@class=\"result_text\"]/a'\n",
    "movies = tree.body.xpath(full)\n"
   ]
  },
  {
   "cell_type": "code",
   "execution_count": 44,
   "metadata": {
    "collapsed": false
   },
   "outputs": [
    {
     "name": "stdout",
     "output_type": "stream",
     "text": [
      "{'href': '/title/tt3170832/?ref_=fn_al_tt_1'}\n",
      "{'href': '/title/tt0417096/?ref_=fn_al_tt_2'}\n",
      "{'href': '/title/tt0481321/?ref_=fn_al_tt_3'}\n",
      "{'href': '/title/tt4062536/?ref_=fn_al_tt_4'}\n",
      "{'href': '/title/tt0368226/?ref_=fn_al_tt_5'}\n",
      "{'href': '/title/tt3952108/?ref_=fn_al_tt_6'}\n",
      "{'href': '/title/tt2381111/?ref_=fn_al_tt_7'}\n",
      "{'href': '/title/tt3482062/?ref_=fn_al_tt_8'}\n",
      "{'href': '/title/tt3832914/?ref_=fn_al_tt_9'}\n",
      "{'href': '/title/tt2467372/?ref_=fn_al_tt_10'}\n",
      "{'href': '/name/nm2395937/?ref_=fn_al_nm_1'}\n",
      "{'href': '/keyword/room/?ref_=fn_al_kw_1'}\n",
      "{'href': '/company/co0538730/?ref_=fn_al_co_1'}\n",
      "{'href': '/company/co0277535/?ref_=fn_al_co_2'}\n",
      "{'href': '/company/co0482292/?ref_=fn_al_co_3'}\n",
      "{'href': '/company/co0367303/?ref_=fn_al_co_4'}\n",
      "{'href': '/company/co0482449/?ref_=fn_al_co_5'}\n"
     ]
    }
   ],
   "source": [
    "for a in movies:\n",
    "    print a.attrib"
   ]
  },
  {
   "cell_type": "code",
   "execution_count": null,
   "metadata": {
    "collapsed": true
   },
   "outputs": [],
   "source": []
  }
 ],
 "metadata": {
  "kernelspec": {
   "display_name": "Python 2",
   "language": "python",
   "name": "python2"
  },
  "language_info": {
   "codemirror_mode": {
    "name": "ipython",
    "version": 2
   },
   "file_extension": ".py",
   "mimetype": "text/x-python",
   "name": "python",
   "nbconvert_exporter": "python",
   "pygments_lexer": "ipython2",
   "version": "2.7.11"
  }
 },
 "nbformat": 4,
 "nbformat_minor": 0
}
