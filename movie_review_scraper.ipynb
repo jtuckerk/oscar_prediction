{
 "cells": [
  {
   "cell_type": "code",
   "execution_count": 65,
   "metadata": {
    "autoscroll": "json-false",
    "collapsed": false,
    "ein.tags": [
     "worksheet-0"
    ]
   },
   "outputs": [],
   "source": [
    "import urllib2\n",
    "import urllib\n",
    "from lxml import html\n",
    "import re\n",
    "list_o_movies = ['room', 'the-revenant-2015']\n",
    "\n",
    "mc= 'http://www.metacritic.com/movie/room/critic-reviews'"
   ]
  },
  {
   "cell_type": "code",
   "execution_count": 47,
   "metadata": {
    "autoscroll": "json-false",
    "collapsed": false,
    "ein.tags": [
     "worksheet-0"
    ]
   },
   "outputs": [],
   "source": [
    "url = mc\n",
    "user_agent = 'Mozilla/5.0 (Windows NT 6.1; Win64; x64)'\n",
    "values = {'name' : 'Michael Foord',\n",
    "          'location' : 'Northampton',\n",
    "          'language' : 'Python' }\n",
    "headers = { 'User-Agent' : user_agent }\n",
    "\n",
    "data = urllib.urlencode(values)\n",
    "req = urllib2.Request(url, data, headers)\n",
    "response = urllib2.urlopen(req)\n",
    "the_page = response.read()"
   ]
  },
  {
   "cell_type": "code",
   "execution_count": 48,
   "metadata": {
    "autoscroll": "json-false",
    "collapsed": false,
    "ein.tags": [
     "worksheet-0"
    ]
   },
   "outputs": [],
   "source": [
    "tree = html.fromstring(the_page)"
   ]
  },
  {
   "cell_type": "code",
   "execution_count": 1,
   "metadata": {
    "autoscroll": "json-false",
    "collapsed": false,
    "ein.tags": [
     "worksheet-0"
    ]
   },
   "outputs": [],
   "source": [
    "# tree.xpath('//a/text()')"
   ]
  },
  {
   "cell_type": "code",
   "execution_count": 0,
   "metadata": {
    "autoscroll": "json-false",
    "collapsed": false,
    "ein.tags": [
     "worksheet-0"
    ]
   },
   "outputs": [],
   "source": []
  },
  {
   "cell_type": "code",
   "execution_count": 16,
   "metadata": {
    "autoscroll": "json-false",
    "collapsed": false,
    "ein.tags": [
     "worksheet-0"
    ]
   },
   "outputs": [],
   "source": [
    "#possibilities = re.findall('([^ ]+)=\"([^\"/]*(?=article|body|story).*?[^/]?)\"', tree.body,re.IGNORECASE)"
   ]
  },
  {
   "cell_type": "code",
   "execution_count": 17,
   "metadata": {
    "autoscroll": "json-false",
    "collapsed": false,
    "ein.tags": [
     "worksheet-0"
    ]
   },
   "outputs": [],
   "source": [
    "path = '//li[@class=\"review_action full_review\"]/a/@href'\n",
    "links = tree.body.xpath(path)"
   ]
  },
  {
   "cell_type": "code",
   "execution_count": 18,
   "metadata": {
    "autoscroll": "json-false",
    "collapsed": false,
    "ein.tags": [
     "worksheet-0"
    ]
   },
   "outputs": [],
   "source": [
    "import BeautifulSoup\n"
   ]
  },
  {
   "cell_type": "code",
   "execution_count": 2,
   "metadata": {
    "autoscroll": "json-false",
    "collapsed": false,
    "ein.tags": [
     "worksheet-0"
    ]
   },
   "outputs": [],
   "source": [
    "r= 'http://www.imdb.com/find?ref_=nv_sr_fn&q=Room&s=all'\n",
    "url = r\n",
    "def get_tree(url):\n",
    "    user_agent = 'Mozilla/5.0 (Windows NT 6.1; Win64; x64)'\n",
    "    values = {'name' : 'Michael Foord',\n",
    "\t      'location' : 'Northampton',\n",
    "\t      'language' : 'Python' }\n",
    "    headers = { 'User-Agent' : user_agent }\n",
    "\n",
    "    data = urllib.urlencode(values)\n",
    "    req = urllib2.Request(url, data, headers)\n",
    "    response = urllib2.urlopen(req)\n",
    "    the_page = response.read()\n",
    "    tree = html.fromstring(the_page)\t\n",
    "    return tree"
   ]
  },
  {
   "cell_type": "code",
   "execution_count": 39,
   "metadata": {
    "autoscroll": "json-false",
    "collapsed": false,
    "ein.tags": [
     "worksheet-0"
    ]
   },
   "outputs": [],
   "source": [
    "#get all year links \n",
    "#get 2016 results from first page\n",
    "# get all results from each year\n",
    "oscar_page = 'http://www.imdb.com/awards-central/oscars'\n",
    "tree = get_tree(oscar_page)\n",
    "blurbs = \"//div[@id='sidebar']//div[@class='aux-content-widget-2']//a\"\n",
    "\"//div[@class='ab_ninja']/p[@class='blurb']\"\n",
    "oscar_year_page_links = tree.body.xpath(blurbs)"
   ]
  },
  {
   "cell_type": "code",
   "execution_count": 43,
   "metadata": {
    "autoscroll": "json-false",
    "collapsed": false,
    "ein.tags": [
     "worksheet-0"
    ]
   },
   "outputs": [],
   "source": [
    "base = 'http://www.imdb.com'\n",
    "urls = []\n",
    "for p in oscar_year_page_links:\n",
    "    if re.match(r'\\d{4}', p.text):\n",
    "\n",
    "       year = re.findall(r'\\d{4}', p.text).pop()\n",
    "\n",
    "       urls.append((year,base+p.body.xpath('//a[text()=\"'+year+'\"]/@href')[0] ))     "
   ]
  },
  {
   "cell_type": "code",
   "execution_count": 75,
   "metadata": {
    "autoscroll": "json-false",
    "collapsed": false,
    "ein.tags": [
     "worksheet-0"
    ]
   },
   "outputs": [],
   "source": [
    "oscar_pages = []\n",
    "for y, p in urls:\n",
    "    t = get_tree(p)\n",
    "    oscar_pages.append((y,t))\n",
    "    #urllib.urlretrieve(p, './oscar_webpages/oscars_{y}.html')\n",
    "    #!wget -O oscars_{y}.html {p}\n",
    "    "
   ]
  },
  {
   "cell_type": "code",
   "execution_count": 86,
   "metadata": {
    "autoscroll": "json-false",
    "collapsed": false,
    "ein.tags": [
     "worksheet-0"
    ]
   },
   "outputs": [],
   "source": [
    "t = get_tree('http://www.imdb.com/event/ev0000003/2016')\t\n",
    "oscar_pages.append((\"2016\",t))"
   ]
  },
  {
   "cell_type": "code",
   "execution_count": 418,
   "metadata": {
    "autoscroll": "json-false",
    "collapsed": false,
    "ein.tags": [
     "worksheet-0"
    ]
   },
   "outputs": [],
   "source": [
    "award_titles = []\n",
    "for a in oscar_pages:\n",
    "\n",
    "#    Properties[Property[@Descriptor = '2'] = 'FOO']\n",
    "    award_title_list = a[1].xpath('//div[@class=\"award\"][h1[text()=\"Oscar\"]]/blockquote/h2/text()')\n",
    "\n",
    "    award_titles.append((a[0], award_title_list))\n"
   ]
  },
  {
   "cell_type": "code",
   "execution_count": 419,
   "metadata": {
    "autoscroll": "json-false",
    "collapsed": false,
    "ein.tags": [
     "worksheet-0"
    ]
   },
   "outputs": [],
   "source": [
    "win_noms = []\n",
    "for i, a in enumerate(oscar_pages):\n",
    "    win_nom_blocks = a[1].xpath('//div/div/div[@class=\"award\"][h1[text()=\"Oscar\"]]/blockquote/blockquote')\n",
    "    win_noms.append((a[0], win_nom_blocks))"
   ]
  },
  {
   "cell_type": "code",
   "execution_count": 420,
   "metadata": {
    "autoscroll": "json-false",
    "collapsed": false,
    "ein.tags": [
     "worksheet-0"
    ]
   },
   "outputs": [
    {
     "name": "stdout",
     "output_type": "stream",
     "text": [
      "88\n",
      "88\n"
     ]
    }
   ],
   "source": [
    "print len(award_titles)\n",
    "print len(win_noms)"
   ]
  },
  {
   "cell_type": "code",
   "execution_count": 487,
   "metadata": {
    "autoscroll": "json-false",
    "collapsed": false,
    "ein.tags": [
     "worksheet-0"
    ]
   },
   "outputs": [
    {
     "name": "stdout",
     "output_type": "stream",
     "text": [
      "2015  |||  Best Motion Picture of the Year  |||  Birdman or (The Unexpected Virtue of Ignorance)  |||  Alejandro G. Iñárritu  |||  WON\n",
      "2015  |||  Best Motion Picture of the Year  |||  Birdman or (The Unexpected Virtue of Ignorance)  |||  John Lesher  |||  WON\n",
      "2015  |||  Best Motion Picture of the Year  |||  Birdman or (The Unexpected Virtue of Ignorance)  |||  James W. Skotchdopole  |||  WON\n",
      "2015  |||  Best Motion Picture of the Year  |||  American Sniper  |||  Clint Eastwood  |||  LOST\n",
      "2015  |||  Best Motion Picture of the Year  |||  American Sniper  |||  Robert Lorenz  |||  LOST\n",
      "2015  |||  Best Motion Picture of the Year  |||  American Sniper  |||  Andrew Lazar  |||  LOST\n",
      "2015  |||  Best Motion Picture of the Year  |||  American Sniper  |||  Bradley Cooper  |||  LOST\n",
      "2015  |||  Best Motion Picture of the Year  |||  American Sniper  |||  Peter Morgan  |||  LOST\n",
      "2015  |||  Best Motion Picture of the Year  |||  Boyhood  |||  Richard Linklater  |||  LOST\n",
      "2015  |||  Best Motion Picture of the Year  |||  Boyhood  |||  Cathleen Sutherland  |||  LOST\n",
      "2015  |||  Best Motion Picture of the Year  |||  The Imitation Game  |||  Nora Grossman  |||  LOST\n",
      "2015  |||  Best Motion Picture of the Year  |||  The Imitation Game  |||  Ido Ostrowsky  |||  LOST\n",
      "2015  |||  Best Motion Picture of the Year  |||  The Imitation Game  |||  Teddy Schwarzman  |||  LOST\n",
      "2015  |||  Best Motion Picture of the Year  |||  The Grand Budapest Hotel  |||  Wes Anderson  |||  LOST\n",
      "2015  |||  Best Motion Picture of the Year  |||  The Grand Budapest Hotel  |||  Scott Rudin  |||  LOST\n",
      "2015  |||  Best Motion Picture of the Year  |||  The Grand Budapest Hotel  |||  Steven Rales  |||  LOST\n",
      "2015  |||  Best Motion Picture of the Year  |||  The Grand Budapest Hotel  |||  Jeremy Dawson  |||  LOST\n",
      "2015  |||  Best Motion Picture of the Year  |||  Selma  |||  Christian Colson  |||  LOST\n",
      "2015  |||  Best Motion Picture of the Year  |||  Selma  |||  Oprah Winfrey  |||  LOST\n",
      "2015  |||  Best Motion Picture of the Year  |||  Selma  |||  Dede Gardner  |||  LOST\n",
      "2015  |||  Best Motion Picture of the Year  |||  Selma  |||  Jeremy Kleiner  |||  LOST\n",
      "2015  |||  Best Motion Picture of the Year  |||  The Theory of Everything  |||  Tim Bevan  |||  LOST\n",
      "2015  |||  Best Motion Picture of the Year  |||  The Theory of Everything  |||  Eric Fellner  |||  LOST\n",
      "2015  |||  Best Motion Picture of the Year  |||  The Theory of Everything  |||  Lisa Bruce  |||  LOST\n",
      "2015  |||  Best Motion Picture of the Year  |||  The Theory of Everything  |||  Anthony McCarten  |||  LOST\n",
      "2015  |||  Best Motion Picture of the Year  |||  Whiplash  |||  Jason Blum  |||  LOST\n",
      "2015  |||  Best Motion Picture of the Year  |||  Whiplash  |||  Helen Estabrook  |||  LOST\n",
      "2015  |||  Best Motion Picture of the Year  |||  Whiplash  |||  David Lancaster  |||  LOST\n",
      "2015  |||  Best Performance by an Actor in a Leading Role  |||  The Theory of Everything  |||  Eddie Redmayne  |||  WON\n",
      "2015  |||  Best Performance by an Actor in a Leading Role  |||  Foxcatcher  |||  Steve Carell  |||  LOST\n",
      "2015  |||  Best Performance by an Actor in a Leading Role  |||  The Imitation Game  |||  Benedict Cumberbatch  |||  LOST\n",
      "2015  |||  Best Performance by an Actor in a Leading Role  |||  American Sniper  |||  Bradley Cooper  |||  LOST\n",
      "2015  |||  Best Performance by an Actor in a Leading Role  |||  Birdman or (The Unexpected Virtue of Ignorance)  |||  Michael Keaton  |||  LOST\n",
      "2015  |||  Best Performance by an Actress in a Leading Role  |||  Still Alice  |||  Julianne Moore  |||  WON\n",
      "2015  |||  Best Performance by an Actress in a Leading Role  |||  Two Days, One Night  |||  Marion Cotillard  |||  LOST\n",
      "2015  |||  Best Performance by an Actress in a Leading Role  |||  The Theory of Everything  |||  Felicity Jones  |||  LOST\n",
      "2015  |||  Best Performance by an Actress in a Leading Role  |||  Gone Girl  |||  Rosamund Pike  |||  LOST\n",
      "2015  |||  Best Performance by an Actress in a Leading Role  |||  Wild  |||  Reese Witherspoon  |||  LOST\n",
      "2015  |||  Best Performance by an Actor in a Supporting Role  |||  Whiplash  |||  J.K. Simmons  |||  WON\n",
      "2015  |||  Best Performance by an Actor in a Supporting Role  |||  The Judge  |||  Robert Duvall  |||  LOST\n",
      "2015  |||  Best Performance by an Actor in a Supporting Role  |||  Boyhood  |||  Ethan Hawke  |||  LOST\n",
      "2015  |||  Best Performance by an Actor in a Supporting Role  |||  Birdman or (The Unexpected Virtue of Ignorance)  |||  Edward Norton  |||  LOST\n",
      "2015  |||  Best Performance by an Actor in a Supporting Role  |||  Foxcatcher  |||  Mark Ruffalo  |||  LOST\n",
      "2015  |||  Best Performance by an Actress in a Supporting Role  |||  Boyhood  |||  Patricia Arquette  |||  WON\n",
      "2015  |||  Best Performance by an Actress in a Supporting Role  |||  Wild  |||  Laura Dern  |||  LOST\n",
      "2015  |||  Best Performance by an Actress in a Supporting Role  |||  The Imitation Game  |||  Keira Knightley  |||  LOST\n",
      "2015  |||  Best Performance by an Actress in a Supporting Role  |||  Birdman or (The Unexpected Virtue of Ignorance)  |||  Emma Stone  |||  LOST\n",
      "2015  |||  Best Performance by an Actress in a Supporting Role  |||  Into the Woods  |||  Meryl Streep  |||  LOST\n",
      "2015  |||  Best Achievement in Directing  |||  Birdman or (The Unexpected Virtue of Ignorance)  |||  Alejandro G. Iñárritu  |||  WON\n",
      "2015  |||  Best Achievement in Directing  |||  Boyhood  |||  Richard Linklater  |||  LOST\n",
      "2015  |||  Best Achievement in Directing  |||  Foxcatcher  |||  Bennett Miller  |||  LOST\n",
      "2015  |||  Best Achievement in Directing  |||  The Grand Budapest Hotel  |||  Wes Anderson  |||  LOST\n",
      "2015  |||  Best Achievement in Directing  |||  The Imitation Game  |||  Morten Tyldum  |||  LOST\n",
      "2015  |||  Best Writing, Original Screenplay  |||  Birdman or (The Unexpected Virtue of Ignorance)  |||  Alejandro G. Iñárritu  |||  WON\n",
      "2015  |||  Best Writing, Original Screenplay  |||  Birdman or (The Unexpected Virtue of Ignorance)  |||  Nicolás Giacobone  |||  WON\n",
      "2015  |||  Best Writing, Original Screenplay  |||  Birdman or (The Unexpected Virtue of Ignorance)  |||  Alexander Dinelaris  |||  WON\n",
      "2015  |||  Best Writing, Original Screenplay  |||  Birdman or (The Unexpected Virtue of Ignorance)  |||  Armando Bo  |||  WON\n",
      "2015  |||  Best Writing, Original Screenplay  |||  The Grand Budapest Hotel  |||  Wes Anderson  |||  LOST\n",
      "2015  |||  Best Writing, Original Screenplay  |||  The Grand Budapest Hotel  |||  Hugo Guinness  |||  LOST\n",
      "2015  |||  Best Writing, Original Screenplay  |||  Boyhood  |||  Richard Linklater  |||  LOST\n",
      "2015  |||  Best Writing, Original Screenplay  |||  Foxcatcher  |||  E. Max Frye  |||  LOST\n",
      "2015  |||  Best Writing, Original Screenplay  |||  Foxcatcher  |||  Dan Futterman  |||  LOST\n",
      "2015  |||  Best Writing, Original Screenplay  |||  Nightcrawler  |||  Dan Gilroy  |||  LOST\n",
      "2015  |||  Best Writing, Adapted Screenplay  |||  The Imitation Game  |||  Graham Moore  |||  WON\n",
      "2015  |||  Best Writing, Adapted Screenplay  |||  American Sniper  |||  Jason Hall  |||  LOST\n",
      "2015  |||  Best Writing, Adapted Screenplay  |||  Inherent Vice  |||  Paul Thomas Anderson  |||  LOST\n",
      "2015  |||  Best Writing, Adapted Screenplay  |||  The Theory of Everything  |||  Anthony McCarten  |||  LOST\n",
      "2015  |||  Best Writing, Adapted Screenplay  |||  Whiplash  |||  Damien Chazelle  |||  LOST\n",
      "2015  |||  Best Achievement in Cinematography  |||  Birdman or (The Unexpected Virtue of Ignorance)  |||  Emmanuel Lubezki  |||  WON\n",
      "2015  |||  Best Achievement in Cinematography  |||  The Grand Budapest Hotel  |||  Robert D. Yeoman  |||  LOST\n",
      "2015  |||  Best Achievement in Cinematography  |||  Mr. Turner  |||  Dick Pope  |||  LOST\n",
      "2015  |||  Best Achievement in Cinematography  |||  Unbroken  |||  Roger Deakins  |||  LOST\n",
      "2015  |||  Best Achievement in Cinematography  |||  Ida  |||  Lukasz Zal  |||  LOST\n",
      "2015  |||  Best Achievement in Cinematography  |||  Ida  |||  Ryszard Lenczewski  |||  LOST\n",
      "2015  |||  Best Achievement in Costume Design  |||  The Grand Budapest Hotel  |||  Milena Canonero  |||  WON\n",
      "2015  |||  Best Achievement in Costume Design  |||  Inherent Vice  |||  Mark Bridges  |||  LOST\n",
      "2015  |||  Best Achievement in Costume Design  |||  Into the Woods  |||  Colleen Atwood  |||  LOST\n",
      "2015  |||  Best Achievement in Costume Design  |||  Maleficent  |||  Anna B. Sheppard  |||  LOST\n",
      "2015  |||  Best Achievement in Costume Design  |||  Mr. Turner  |||  Jacqueline Durran  |||  LOST\n",
      "2015  |||  Best Achievement in Sound Mixing  |||  Whiplash  |||  Craig Mann  |||  WON\n",
      "2015  |||  Best Achievement in Sound Mixing  |||  Whiplash  |||  Ben Wilkins  |||  WON\n",
      "2015  |||  Best Achievement in Sound Mixing  |||  Whiplash  |||  Thomas Curley  |||  WON\n",
      "2015  |||  Best Achievement in Sound Mixing  |||  American Sniper  |||  John T. Reitz  |||  LOST\n",
      "2015  |||  Best Achievement in Sound Mixing  |||  American Sniper  |||  Gregg Rudloff  |||  LOST\n",
      "2015  |||  Best Achievement in Sound Mixing  |||  American Sniper  |||  Walt Martin  |||  LOST\n",
      "2015  |||  Best Achievement in Sound Mixing  |||  Birdman or (The Unexpected Virtue of Ignorance)  |||  Jon Taylor  |||  LOST\n",
      "2015  |||  Best Achievement in Sound Mixing  |||  Birdman or (The Unexpected Virtue of Ignorance)  |||  Frank A. Montaño  |||  LOST\n",
      "2015  |||  Best Achievement in Sound Mixing  |||  Birdman or (The Unexpected Virtue of Ignorance)  |||  Thomas Varga  |||  LOST\n",
      "2015  |||  Best Achievement in Sound Mixing  |||  Interstellar  |||  Gary Rizzo  |||  LOST\n",
      "2015  |||  Best Achievement in Sound Mixing  |||  Interstellar  |||  Gregg Landaker  |||  LOST\n",
      "2015  |||  Best Achievement in Sound Mixing  |||  Interstellar  |||  Mark Weingarten  |||  LOST\n",
      "2015  |||  Best Achievement in Sound Mixing  |||  Unbroken  |||  Jon Taylor  |||  LOST\n",
      "2015  |||  Best Achievement in Sound Mixing  |||  Unbroken  |||  Frank A. Montaño  |||  LOST\n",
      "2015  |||  Best Achievement in Sound Mixing  |||  Unbroken  |||  David Lee  |||  LOST\n",
      "2015  |||  Best Achievement in Film Editing  |||  Whiplash  |||  Tom Cross  |||  WON\n",
      "2015  |||  Best Achievement in Film Editing  |||  Boyhood  |||  Sandra Adair  |||  LOST\n",
      "2015  |||  Best Achievement in Film Editing  |||  The Imitation Game  |||  William Goldenberg  |||  LOST\n",
      "2015  |||  Best Achievement in Film Editing  |||  The Grand Budapest Hotel  |||  Barney Pilling  |||  LOST\n",
      "2015  |||  Best Achievement in Film Editing  |||  American Sniper  |||  Joel Cox  |||  LOST\n",
      "2015  |||  Best Achievement in Film Editing  |||  American Sniper  |||  Gary Roach  |||  LOST\n",
      "2015  |||  Best Achievement in Sound Editing  |||  American Sniper  |||  Alan Robert Murray  |||  WON\n",
      "2015  |||  Best Achievement in Sound Editing  |||  American Sniper  |||  Bub Asman  |||  WON\n",
      "2015  |||  Best Achievement in Sound Editing  |||  Birdman or (The Unexpected Virtue of Ignorance)  |||  Aaron Glascock  |||  LOST\n",
      "2015  |||  Best Achievement in Sound Editing  |||  Birdman or (The Unexpected Virtue of Ignorance)  |||  Martín Hernández  |||  LOST\n",
      "2015  |||  Best Achievement in Sound Editing  |||  The Hobbit: The Battle of the Five Armies  |||  Brent Burge  |||  LOST\n",
      "2015  |||  Best Achievement in Sound Editing  |||  The Hobbit: The Battle of the Five Armies  |||  Jason Canovas  |||  LOST\n",
      "2015  |||  Best Achievement in Sound Editing  |||  Interstellar  |||  Richard King  |||  LOST\n",
      "2015  |||  Best Achievement in Sound Editing  |||  Unbroken  |||  Becky Sullivan  |||  LOST\n",
      "2015  |||  Best Achievement in Sound Editing  |||  Unbroken  |||  Andrew DeCristofaro  |||  LOST\n",
      "2015  |||  Best Achievement in Visual Effects  |||  Interstellar  |||  Paul J. Franklin  |||  WON\n",
      "2015  |||  Best Achievement in Visual Effects  |||  Interstellar  |||  Andrew Lockley  |||  WON\n",
      "2015  |||  Best Achievement in Visual Effects  |||  Interstellar  |||  Ian Hunter  |||  WON\n",
      "2015  |||  Best Achievement in Visual Effects  |||  Interstellar  |||  Scott R. Fisher  |||  WON\n",
      "2015  |||  Best Achievement in Visual Effects  |||  Captain America: The Winter Soldier  |||  Dan Deleeuw  |||  LOST\n",
      "2015  |||  Best Achievement in Visual Effects  |||  Captain America: The Winter Soldier  |||  Russell Earl  |||  LOST\n",
      "2015  |||  Best Achievement in Visual Effects  |||  Captain America: The Winter Soldier  |||  Bryan Grill  |||  LOST\n",
      "2015  |||  Best Achievement in Visual Effects  |||  Captain America: The Winter Soldier  |||  Daniel Sudick  |||  LOST\n",
      "2015  |||  Best Achievement in Visual Effects  |||  Dawn of the Planet of the Apes  |||  Joe Letteri  |||  LOST\n",
      "2015  |||  Best Achievement in Visual Effects  |||  Dawn of the Planet of the Apes  |||  Dan Lemmon  |||  LOST\n",
      "2015  |||  Best Achievement in Visual Effects  |||  Dawn of the Planet of the Apes  |||  Daniel Barrett  |||  LOST\n",
      "2015  |||  Best Achievement in Visual Effects  |||  Dawn of the Planet of the Apes  |||  Erik Winquist  |||  LOST\n",
      "2015  |||  Best Achievement in Visual Effects  |||  Guardians of the Galaxy  |||  Stephane Ceretti  |||  LOST\n",
      "2015  |||  Best Achievement in Visual Effects  |||  Guardians of the Galaxy  |||  Nicolas Aithadi  |||  LOST\n",
      "2015  |||  Best Achievement in Visual Effects  |||  Guardians of the Galaxy  |||  Jonathan Fawkner  |||  LOST\n",
      "2015  |||  Best Achievement in Visual Effects  |||  Guardians of the Galaxy  |||  Paul Corbould  |||  LOST\n",
      "2015  |||  Best Achievement in Visual Effects  |||  X-Men: Days of Future Past  |||  Richard Stammers  |||  LOST\n",
      "2015  |||  Best Achievement in Visual Effects  |||  X-Men: Days of Future Past  |||  Lou Pecora  |||  LOST\n",
      "2015  |||  Best Achievement in Visual Effects  |||  X-Men: Days of Future Past  |||  Tim Crosbie  |||  LOST\n",
      "2015  |||  Best Achievement in Visual Effects  |||  X-Men: Days of Future Past  |||  Cameron Waldbauer  |||  LOST\n",
      "2015  |||  Best Achievement in Makeup and Hairstyling  |||  The Grand Budapest Hotel  |||  Frances Hannon  |||  WON\n",
      "2015  |||  Best Achievement in Makeup and Hairstyling  |||  The Grand Budapest Hotel  |||  Mark Coulier  |||  WON\n",
      "2015  |||  Best Achievement in Makeup and Hairstyling  |||  Foxcatcher  |||  Bill Corso  |||  LOST\n",
      "2015  |||  Best Achievement in Makeup and Hairstyling  |||  Foxcatcher  |||  Dennis Liddiard  |||  LOST\n",
      "2015  |||  Best Achievement in Makeup and Hairstyling  |||  Guardians of the Galaxy  |||  Elizabeth Yianni-Georgiou  |||  LOST\n",
      "2015  |||  Best Achievement in Makeup and Hairstyling  |||  Guardians of the Galaxy  |||  David White  |||  LOST\n",
      "2015  |||  Best Achievement in Music Written for Motion Pictures, Original Song  |||  Selma  |||  Common  |||  WON\n",
      "2015  |||  Best Achievement in Music Written for Motion Pictures, Original Song  |||  Selma  |||  John Legend  |||  WON\n",
      "2015  |||  Best Achievement in Music Written for Motion Pictures, Original Song  |||  Begin Again  |||  Gregg Alexander  |||  LOST\n",
      "2015  |||  Best Achievement in Music Written for Motion Pictures, Original Song  |||  Begin Again  |||  Danielle Brisebois  |||  LOST\n",
      "2015  |||  Best Achievement in Music Written for Motion Pictures, Original Song  |||  The Lego Movie  |||  Shawn Patterson  |||  LOST\n",
      "2015  |||  Best Achievement in Music Written for Motion Pictures, Original Song  |||  Beyond the Lights  |||  Diane Warren  |||  LOST\n",
      "2015  |||  Best Achievement in Music Written for Motion Pictures, Original Song  |||  Glen Campbell: I'll Be Me  |||  Glen Campbell  |||  LOST\n",
      "2015  |||  Best Achievement in Music Written for Motion Pictures, Original Song  |||  Glen Campbell: I'll Be Me  |||  Julian Raymond  |||  LOST\n",
      "2015  |||  Best Achievement in Music Written for Motion Pictures, Original Score  |||  The Grand Budapest Hotel  |||  Alexandre Desplat  |||  WON\n",
      "2015  |||  Best Achievement in Music Written for Motion Pictures, Original Score  |||  The Imitation Game  |||  Alexandre Desplat  |||  LOST\n",
      "2015  |||  Best Achievement in Music Written for Motion Pictures, Original Score  |||  Interstellar  |||  Hans Zimmer  |||  LOST\n",
      "2015  |||  Best Achievement in Music Written for Motion Pictures, Original Score  |||  The Theory of Everything  |||  Jóhann Jóhannsson  |||  LOST\n",
      "2015  |||  Best Achievement in Music Written for Motion Pictures, Original Score  |||  Mr. Turner  |||  Gary Yershon  |||  LOST\n",
      "2015  |||  Best Short Film, Animated  |||  Feast  |||  Patrick Osborne  |||  WON\n",
      "2015  |||  Best Short Film, Animated  |||  Feast  |||  Kristina Reed  |||  WON\n",
      "2015  |||  Best Short Film, Animated  |||  The Bigger Picture  |||  Daisy Jacobs  |||  LOST\n",
      "2015  |||  Best Short Film, Animated  |||  The Bigger Picture  |||  Chris Hees  |||  LOST\n",
      "2015  |||  Best Short Film, Animated  |||  The Dam Keeper  |||  Robert Kondo  |||  LOST\n",
      "2015  |||  Best Short Film, Animated  |||  The Dam Keeper  |||  Daisuke 'Dice' Tsutsumi  |||  LOST\n",
      "2015  |||  Best Short Film, Animated  |||  Me and My Moulton  |||  Torill Kove  |||  LOST\n",
      "2015  |||  Best Short Film, Animated  |||  A Single Life  |||  Joris Oprins  |||  LOST\n",
      "2015  |||  Best Short Film, Live Action  |||  The Phone Call  |||  Mat Kirkby  |||  WON\n",
      "2015  |||  Best Short Film, Live Action  |||  The Phone Call  |||  James Lucas  |||  WON\n",
      "2015  |||  Best Short Film, Live Action  |||  Aya  |||  Oded Binnun  |||  LOST\n",
      "2015  |||  Best Short Film, Live Action  |||  Aya  |||  Mihal Brezis  |||  LOST\n",
      "2015  |||  Best Short Film, Live Action  |||  Boogaloo and Graham  |||  Michael Lennox  |||  LOST\n",
      "2015  |||  Best Short Film, Live Action  |||  Boogaloo and Graham  |||  Ronan Blaney  |||  LOST\n",
      "2015  |||  Best Short Film, Live Action  |||  Butter Lamp  |||  Wei Hu  |||  LOST\n",
      "2015  |||  Best Short Film, Live Action  |||  Butter Lamp  |||  Julien Féret  |||  LOST\n",
      "2015  |||  Best Short Film, Live Action  |||  Parvaneh  |||  Talkhon Hamzavi  |||  LOST\n",
      "2015  |||  Best Short Film, Live Action  |||  Parvaneh  |||  Stefan Eichenberger  |||  LOST\n",
      "2015  |||  Best Documentary, Short Subject  |||  Crisis Hotline: Veterans Press 1  |||  Ellen Goosenberg Kent  |||  WON\n",
      "2015  |||  Best Documentary, Short Subject  |||  Crisis Hotline: Veterans Press 1  |||  Dana Heinz Perry  |||  WON\n",
      "2015  |||  Best Documentary, Short Subject  |||  Joanna  |||  Aneta Kopacz  |||  LOST\n",
      "2015  |||  Best Documentary, Short Subject  |||  Our Curse  |||  Tomasz Sliwinski  |||  LOST\n",
      "2015  |||  Best Documentary, Short Subject  |||  Our Curse  |||  Maciej Slesicki  |||  LOST\n",
      "2015  |||  Best Documentary, Short Subject  |||  The Reaper  |||  Gabriel Serra  |||  LOST\n",
      "2015  |||  Best Documentary, Short Subject  |||  White Earth  |||  Christian Jensen  |||  LOST\n",
      "2015  |||  Best Documentary, Feature  |||  Citizenfour  |||  Laura Poitras  |||  WON\n",
      "2015  |||  Best Documentary, Feature  |||  Citizenfour  |||  Mathilde Bonnefoy  |||  WON\n",
      "2015  |||  Best Documentary, Feature  |||  Citizenfour  |||  Dirk Wilutzky  |||  WON\n",
      "2015  |||  Best Documentary, Feature  |||  Finding Vivian Maier  |||  John Maloof  |||  LOST\n",
      "2015  |||  Best Documentary, Feature  |||  Finding Vivian Maier  |||  Charlie Siskel  |||  LOST\n",
      "2015  |||  Best Documentary, Feature  |||  Last Days in Vietnam  |||  Rory Kennedy  |||  LOST\n",
      "2015  |||  Best Documentary, Feature  |||  Last Days in Vietnam  |||  Keven McAlester  |||  LOST\n",
      "2015  |||  Best Documentary, Feature  |||  The Salt of the Earth  |||  Wim Wenders  |||  LOST\n",
      "2015  |||  Best Documentary, Feature  |||  The Salt of the Earth  |||  Juliano Ribeiro Salgado  |||  LOST\n",
      "2015  |||  Best Documentary, Feature  |||  The Salt of the Earth  |||  David Rosier  |||  LOST\n",
      "2015  |||  Best Documentary, Feature  |||  Virunga  |||  Orlando von Einsiedel  |||  LOST\n",
      "2015  |||  Best Documentary, Feature  |||  Virunga  |||  Joanna Natasegara  |||  LOST\n",
      "2015  |||  Best Animated Feature Film of the Year  |||  Big Hero 6  |||  Don Hall  |||  WON\n",
      "2015  |||  Best Animated Feature Film of the Year  |||  Big Hero 6  |||  Chris Williams  |||  WON\n",
      "2015  |||  Best Animated Feature Film of the Year  |||  Big Hero 6  |||  Roy Conli  |||  WON\n",
      "2015  |||  Best Animated Feature Film of the Year  |||  The Boxtrolls  |||  Anthony Stacchi  |||  LOST\n",
      "2015  |||  Best Animated Feature Film of the Year  |||  The Boxtrolls  |||  Graham Annable  |||  LOST\n",
      "2015  |||  Best Animated Feature Film of the Year  |||  The Boxtrolls  |||  Travis Knight  |||  LOST\n",
      "2015  |||  Best Animated Feature Film of the Year  |||  How to Train Your Dragon 2  |||  Dean DeBlois  |||  LOST\n",
      "2015  |||  Best Animated Feature Film of the Year  |||  How to Train Your Dragon 2  |||  Bonnie Arnold  |||  LOST\n",
      "2015  |||  Best Animated Feature Film of the Year  |||  Song of the Sea  |||  Tomm Moore  |||  LOST\n",
      "2015  |||  Best Animated Feature Film of the Year  |||  Song of the Sea  |||  Paul Young  |||  LOST\n",
      "2015  |||  Best Animated Feature Film of the Year  |||  The Tale of the Princess Kaguya  |||  Isao Takahata  |||  LOST\n",
      "2015  |||  Best Animated Feature Film of the Year  |||  The Tale of the Princess Kaguya  |||  Yoshiaki Nishimura  |||  LOST\n",
      "2015  |||  Best Achievement in Production Design  |||  The Grand Budapest Hotel  |||  Adam Stockhausen  |||  WON\n",
      "2015  |||  Best Achievement in Production Design  |||  The Grand Budapest Hotel  |||  Anna Pinnock  |||  WON\n",
      "2015  |||  Best Achievement in Production Design  |||  The Imitation Game  |||  Maria Djurkovic  |||  LOST\n",
      "2015  |||  Best Achievement in Production Design  |||  The Imitation Game  |||  Tatiana Macdonald  |||  LOST\n",
      "2015  |||  Best Achievement in Production Design  |||  Interstellar  |||  Nathan Crowley  |||  LOST\n",
      "2015  |||  Best Achievement in Production Design  |||  Interstellar  |||  Gary Fettis  |||  LOST\n",
      "2015  |||  Best Achievement in Production Design  |||  Into the Woods  |||  Dennis Gassner  |||  LOST\n",
      "2015  |||  Best Achievement in Production Design  |||  Into the Woods  |||  Anna Pinnock  |||  LOST\n",
      "2015  |||  Best Achievement in Production Design  |||  Mr. Turner  |||  Suzie Davies  |||  LOST\n",
      "2015  |||  Best Achievement in Production Design  |||  Mr. Turner  |||  Charlotte Watts  |||  LOST\n"
     ]
    }
   ],
   "source": [
    "\n",
    "with codecs.open('testoscarout.txt', 'w', encoding='utf-8') as w:\n",
    "    for i, at in enumerate(award_titles[:1]):\n",
    "        win_nom_set = win_noms[i]\n",
    "        year = win_nom_set[0]\n",
    "\n",
    "        for j, wn_block in enumerate(win_nom_set[1]):\n",
    "            for k, (movie, person, won) in enumerate(get_win_nom_data(wn_block)):\n",
    "\n",
    "                w.write(year+ \" ||| \" +at[1][j]+ \" ||| \" +movie+ \" ||| \" + person +\" ||| \"+ won +\"\\n\")"
   ]
  },
  {
   "cell_type": "code",
   "execution_count": 486,
   "metadata": {
    "autoscroll": "json-false",
    "collapsed": false,
    "ein.tags": [
     "worksheet-0"
    ]
   },
   "outputs": [],
   "source": [
    "def get_win_nom_data(wn_block):\n",
    "    movies = wn_block.xpath('./div')\n",
    "\n",
    "    info = []\n",
    "\n",
    "    \n",
    "    for i, m in enumerate(movies):\n",
    "    \tmov_title = m.xpath('./strong/a/text()')[0]\n",
    "        won='LOST'\n",
    "        if i==0:\n",
    "            won='WON'\n",
    "\tpeople = m.xpath('./a/text()')\n",
    "\tfor p in people:\n",
    "\t    info.append((mov_title, p, won))\n",
    "\n",
    "\n",
    "    return info\n"
   ]
  },
  {
   "cell_type": "code",
   "execution_count": 482,
   "metadata": {
    "autoscroll": "json-false",
    "collapsed": false,
    "ein.tags": [
     "worksheet-0"
    ]
   },
   "outputs": [
    {
     "data": {
      "text/plain": [
       "[<Element h3 at 0x10fab28e8>,\n",
       " <Element div at 0x10fab5100>,\n",
       " <Element h3 at 0x10fbb3578>,\n",
       " <Element div at 0x10f70e788>,\n",
       " <Element hr at 0x10fbb35d0>,\n",
       " <Element div at 0x10f7d79f0>,\n",
       " <Element hr at 0x10fbb3628>,\n",
       " <Element div at 0x10f7d7ba8>,\n",
       " <Element hr at 0x10fbb3680>,\n",
       " <Element div at 0x10f7d7cb0>,\n",
       " <Element hr at 0x10fbb36d8>,\n",
       " <Element div at 0x10f7d7db8>,\n",
       " <Element hr at 0x10fbb3730>,\n",
       " <Element div at 0x10f7d7e10>,\n",
       " <Element hr at 0x10fbb3788>,\n",
       " <Element div at 0x10f7d7fc8>]"
      ]
     },
     "execution_count": 482,
     "metadata": {},
     "output_type": "execute_result"
    }
   ],
   "source": [
    "win_noms[0][1][0].xpath('./*')"
   ]
  },
  {
   "cell_type": "code",
   "execution_count": 483,
   "metadata": {
    "autoscroll": "json-false",
    "collapsed": false,
    "ein.tags": [
     "worksheet-0"
    ]
   },
   "outputs": [
    {
     "data": {
      "text/plain": [
       "[('Birdman or (The Unexpected Virtue of Ignorance)',\n",
       "  u'Alejandro G. I\\xf1\\xe1rritu'),\n",
       " ('Birdman or (The Unexpected Virtue of Ignorance)', 'John Lesher'),\n",
       " ('Birdman or (The Unexpected Virtue of Ignorance)', 'James W. Skotchdopole'),\n",
       " ('American Sniper', 'Clint Eastwood'),\n",
       " ('American Sniper', 'Robert Lorenz'),\n",
       " ('American Sniper', 'Andrew Lazar'),\n",
       " ('American Sniper', 'Bradley Cooper'),\n",
       " ('American Sniper', 'Peter Morgan'),\n",
       " ('Boyhood', 'Richard Linklater'),\n",
       " ('Boyhood', 'Cathleen Sutherland'),\n",
       " ('The Imitation Game', 'Nora Grossman'),\n",
       " ('The Imitation Game', 'Ido Ostrowsky'),\n",
       " ('The Imitation Game', 'Teddy Schwarzman'),\n",
       " ('The Grand Budapest Hotel', 'Wes Anderson'),\n",
       " ('The Grand Budapest Hotel', 'Scott Rudin'),\n",
       " ('The Grand Budapest Hotel', 'Steven Rales'),\n",
       " ('The Grand Budapest Hotel', 'Jeremy Dawson'),\n",
       " ('Selma', 'Christian Colson'),\n",
       " ('Selma', 'Oprah Winfrey'),\n",
       " ('Selma', 'Dede Gardner'),\n",
       " ('Selma', 'Jeremy Kleiner'),\n",
       " ('The Theory of Everything', 'Tim Bevan'),\n",
       " ('The Theory of Everything', 'Eric Fellner'),\n",
       " ('The Theory of Everything', 'Lisa Bruce'),\n",
       " ('The Theory of Everything', 'Anthony McCarten'),\n",
       " ('Whiplash', 'Jason Blum'),\n",
       " ('Whiplash', 'Helen Estabrook'),\n",
       " ('Whiplash', 'David Lancaster')]"
      ]
     },
     "execution_count": 483,
     "metadata": {},
     "output_type": "execute_result"
    }
   ],
   "source": [
    "get_win_nom_data(win_noms[0][1][0])"
   ]
  },
  {
   "cell_type": "code",
   "execution_count": 0,
   "metadata": {
    "autoscroll": "json-false",
    "collapsed": false,
    "ein.tags": [
     "worksheet-0"
    ]
   },
   "outputs": [],
   "source": []
  }
 ],
 "metadata": {
  "kernelspec": {
   "display_name": "Python 2",
   "name": "python2"
  },
  "language_info": {
   "codemirror_mode": {
    "name": "ipython",
    "version": 2
   },
   "file_extension": ".py",
   "mimetype": "text/x-python",
   "name": "python",
   "nbconvert_exporter": "python",
   "pygments_lexer": "ipython2",
   "version": "2.7.11"
  },
  "name": "movie_review_scraper.ipynb"
 },
 "nbformat": 4,
 "nbformat_minor": 0
}
