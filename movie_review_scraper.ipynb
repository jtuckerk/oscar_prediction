{
 "cells": [
  {
   "cell_type": "code",
   "execution_count": 65,
   "metadata": {
    "autoscroll": "json-false",
    "collapsed": false,
    "ein.tags": [
     "worksheet-0"
    ]
   },
   "outputs": [],
   "source": [
    "import urllib2\n",
    "import urllib\n",
    "from lxml import html\n",
    "import re\n"
   ]
  },
  {
   "cell_type": "code",
   "execution_count": 2,
   "metadata": {
    "autoscroll": "json-false",
    "collapsed": false,
    "ein.tags": [
     "worksheet-0"
    ]
   },
   "outputs": [],
   "source": [
    "def get_tree(url):\n",
    "    user_agent = 'Mozilla/5.0 (Windows NT 6.1; Win64; x64)'\n",
    "    values = {'name' : 'Michael Foord',\n",
    "\t      'location' : 'Northampton',\n",
    "\t      'language' : 'Python' }\n",
    "    headers = { 'User-Agent' : user_agent }\n",
    "\n",
    "    data = urllib.urlencode(values)\n",
    "    req = urllib2.Request(url, data, headers)\n",
    "    response = urllib2.urlopen(req)\n",
    "    the_page = response.read()\n",
    "    tree = html.fromstring(the_page)\t\n",
    "    return tree"
   ]
  },
  {
   "cell_type": "code",
   "execution_count": 39,
   "metadata": {
    "autoscroll": "json-false",
    "collapsed": false,
    "ein.tags": [
     "worksheet-0"
    ]
   },
   "outputs": [],
   "source": [
    "#get all year links \n",
    "#get 2016 results from first page\n",
    "#get all results from each year\n",
    "oscar_page = 'http://www.imdb.com/awards-central/oscars'\n",
    "tree = get_tree(oscar_page)\n",
    "blurbs = \"//div[@id='sidebar']//div[@class='aux-content-widget-2']//a\"\n",
    "\"//div[@class='ab_ninja']/p[@class='blurb']\"\n",
    "oscar_year_page_links = tree.body.xpath(blurbs)"
   ]
  },
  {
   "cell_type": "code",
   "execution_count": 43,
   "metadata": {
    "autoscroll": "json-false",
    "collapsed": false,
    "ein.tags": [
     "worksheet-0"
    ]
   },
   "outputs": [],
   "source": [
    "base = 'http://www.imdb.com'\n",
    "urls = []\n",
    "for p in oscar_year_page_links:\n",
    "    if re.match(r'\\d{4}', p.text):\n",
    "\n",
    "       year = re.findall(r'\\d{4}', p.text).pop()\n",
    "\n",
    "       urls.append((year,base+p.body.xpath('//a[text()=\"'+year+'\"]/@href')[0] ))     "
   ]
  },
  {
   "cell_type": "code",
   "execution_count": 75,
   "metadata": {
    "autoscroll": "json-false",
    "collapsed": false,
    "ein.tags": [
     "worksheet-0"
    ]
   },
   "outputs": [],
   "source": [
    "oscar_pages = []\n",
    "for y, p in urls:\n",
    "    t = get_tree(p)\n",
    "    oscar_pages.append((y,t))\n",
    "    "
   ]
  },
  {
   "cell_type": "code",
   "execution_count": 86,
   "metadata": {
    "autoscroll": "json-false",
    "collapsed": false,
    "ein.tags": [
     "worksheet-0"
    ]
   },
   "outputs": [],
   "source": [
    "t = get_tree('http://www.imdb.com/event/ev0000003/2016')\t\n",
    "oscar_pages.append((\"2016\",t))"
   ]
  },
  {
   "cell_type": "code",
   "execution_count": 418,
   "metadata": {
    "autoscroll": "json-false",
    "collapsed": false,
    "ein.tags": [
     "worksheet-0"
    ]
   },
   "outputs": [],
   "source": [
    "award_titles = []\n",
    "for a in oscar_pages:\n",
    "\n",
    "    award_title_list = a[1].xpath('//div[@class=\"award\"][h1[text()=\"Oscar\"]]/blockquote/h2/text()')\n",
    "\n",
    "    award_titles.append((a[0], award_title_list))\n"
   ]
  },
  {
   "cell_type": "code",
   "execution_count": 419,
   "metadata": {
    "autoscroll": "json-false",
    "collapsed": false,
    "ein.tags": [
     "worksheet-0"
    ]
   },
   "outputs": [],
   "source": [
    "win_noms = []\n",
    "for i, a in enumerate(oscar_pages):\n",
    "    win_nom_blocks = a[1].xpath('//div/div/div[@class=\"award\"][h1[text()=\"Oscar\"]]/blockquote/blockquote')\n",
    "    win_noms.append((a[0], win_nom_blocks))"
   ]
  },
  {
   "cell_type": "code",
   "execution_count": 0,
   "metadata": {
    "autoscroll": "json-false",
    "collapsed": false,
    "ein.tags": [
     "worksheet-0"
    ]
   },
   "outputs": [],
   "source": [
    "with codecs.open('testoscarout.txt', 'w', encoding='utf-8') as w:\n",
    "    for i, at in enumerate(award_titles[:1]):\n",
    "        win_nom_set = win_noms[i]\n",
    "        year = win_nom_set[0]\n",
    "\n",
    "        for j, wn_block in enumerate(win_nom_set[1]):\n",
    "            for k, (movie, person, won) in enumerate(get_win_nom_data(wn_block)):\n",
    "                w.write(year+ \" ||| \" +at[1][j]+ \" ||| \" +movie+ \" ||| \" + person +\" ||| \"+ won +\"\\n\")"
   ]
  },
  {
   "cell_type": "code",
   "execution_count": 486,
   "metadata": {
    "autoscroll": "json-false",
    "collapsed": false,
    "ein.tags": [
     "worksheet-0"
    ]
   },
   "outputs": [],
   "source": [
    "def get_win_nom_data(wn_block):\n",
    "    movies = wn_block.xpath('./div')\n",
    "\n",
    "    info = []\n",
    "\n",
    "    \n",
    "    for i, m in enumerate(movies):\n",
    "    \tmov_title = m.xpath('./strong/a/text()')[0]\n",
    "        won='LOST'\n",
    "        if i==0:\n",
    "            won='WON'\n",
    "\tpeople = m.xpath('./a/text()')\n",
    "\tfor p in people:\n",
    "\t    info.append((mov_title, p, won))\n",
    "\n",
    "\n",
    "    return info\n"
   ]
  },
  {
   "cell_type": "code",
   "execution_count": 0,
   "metadata": {
    "autoscroll": "json-false",
    "collapsed": false,
    "ein.tags": [
     "worksheet-0"
    ]
   },
   "outputs": [],
   "source": []
  }
 ],
 "metadata": {
  "kernelspec": {
   "display_name": "Python 2",
   "name": "python2"
  },
  "language_info": {
   "codemirror_mode": {
    "name": "ipython",
    "version": 2
   },
   "file_extension": ".py",
   "mimetype": "text/x-python",
   "name": "python",
   "nbconvert_exporter": "python",
   "pygments_lexer": "ipython2",
   "version": "2.7.11"
  },
  "name": "movie_review_scraper.ipynb"
 },
 "nbformat": 4,
 "nbformat_minor": 0
}
