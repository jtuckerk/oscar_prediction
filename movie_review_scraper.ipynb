{
 "cells": [
  {
   "cell_type": "code",
   "execution_count": 46,
   "metadata": {
    "autoscroll": "json-false",
    "collapsed": false,
    "ein.tags": [
     "worksheet-0"
    ]
   },
   "outputs": [],
   "source": [
    "import urllib2\n",
    "import urllib\n",
    "from lxml import html\n",
    "import re\n",
    "list_o_movies = ['room', 'the-revenant-2015']\n",
    "\n",
    "mc= 'http://www.metacritic.com/movie/room/critic-reviews'"
   ]
  },
  {
   "cell_type": "code",
   "execution_count": 47,
   "metadata": {
    "autoscroll": "json-false",
    "collapsed": false,
    "ein.tags": [
     "worksheet-0"
    ]
   },
   "outputs": [],
   "source": [
    "url = mc\n",
    "user_agent = 'Mozilla/5.0 (Windows NT 6.1; Win64; x64)'\n",
    "values = {'name' : 'Michael Foord',\n",
    "          'location' : 'Northampton',\n",
    "          'language' : 'Python' }\n",
    "headers = { 'User-Agent' : user_agent }\n",
    "\n",
    "data = urllib.urlencode(values)\n",
    "req = urllib2.Request(url, data, headers)\n",
    "response = urllib2.urlopen(req)\n",
    "the_page = response.read()"
   ]
  },
  {
   "cell_type": "code",
   "execution_count": 48,
   "metadata": {
    "autoscroll": "json-false",
    "collapsed": false,
    "ein.tags": [
     "worksheet-0"
    ]
   },
   "outputs": [],
   "source": [
    "tree = html.fromstring(the_page)"
   ]
  },
  {
   "cell_type": "code",
   "execution_count": 1,
   "metadata": {
    "autoscroll": "json-false",
    "collapsed": false,
    "ein.tags": [
     "worksheet-0"
    ]
   },
   "outputs": [],
   "source": [
    "# tree.xpath('//a/text()')"
   ]
  },
  {
   "cell_type": "code",
   "execution_count": 0,
   "metadata": {
    "autoscroll": "json-false",
    "collapsed": false,
    "ein.tags": [
     "worksheet-0"
    ]
   },
   "outputs": [],
   "source": []
  },
  {
   "cell_type": "code",
   "execution_count": 16,
   "metadata": {
    "autoscroll": "json-false",
    "collapsed": false,
    "ein.tags": [
     "worksheet-0"
    ]
   },
   "outputs": [],
   "source": [
    "#possibilities = re.findall('([^ ]+)=\"([^\"/]*(?=article|body|story).*?[^/]?)\"', tree.body,re.IGNORECASE)"
   ]
  },
  {
   "cell_type": "code",
   "execution_count": 17,
   "metadata": {
    "autoscroll": "json-false",
    "collapsed": false,
    "ein.tags": [
     "worksheet-0"
    ]
   },
   "outputs": [],
   "source": [
    "path = '//li[@class=\"review_action full_review\"]/a/@href'\n",
    "links = tree.body.xpath(path)"
   ]
  },
  {
   "cell_type": "code",
   "execution_count": 18,
   "metadata": {
    "autoscroll": "json-false",
    "collapsed": false,
    "ein.tags": [
     "worksheet-0"
    ]
   },
   "outputs": [],
   "source": [
    "import BeautifulSoup\n"
   ]
  },
  {
   "cell_type": "code",
   "execution_count": 26,
   "metadata": {
    "autoscroll": "json-false",
    "collapsed": false,
    "ein.tags": [
     "worksheet-0"
    ]
   },
   "outputs": [],
   "source": [
    "r= 'http://www.imdb.com/find?ref_=nv_sr_fn&q=Room&s=all'\n",
    "url = r\n",
    "def get_tree(url):\n",
    "    user_agent = 'Mozilla/5.0 (Windows NT 6.1; Win64; x64)'\n",
    "    values = {'name' : 'Michael Foord',\n",
    "\t      'location' : 'Northampton',\n",
    "\t      'language' : 'Python' }\n",
    "    headers = { 'User-Agent' : user_agent }\n",
    "\n",
    "    data = urllib.urlencode(values)\n",
    "    req = urllib2.Request(url, data, headers)\n",
    "    response = urllib2.urlopen(req)\n",
    "    the_page = response.read()\n",
    "    tree = html.fromstring(the_page)\t\n",
    "    return tree"
   ]
  },
  {
   "cell_type": "code",
   "execution_count": 27,
   "metadata": {
    "autoscroll": "json-false",
    "collapsed": false,
    "ein.tags": [
     "worksheet-0"
    ]
   },
   "outputs": [],
   "source": []
  },
  {
   "cell_type": "code",
   "execution_count": 35,
   "metadata": {
    "autoscroll": "json-false",
    "collapsed": false,
    "ein.tags": [
     "worksheet-0"
    ]
   },
   "outputs": [],
   "source": [
    "name = '//td[@class=\"result_text\"]/a/text()'\n",
    "path = '//td[@class=\"result_text\"]/a/@href'\n",
    "years = '//td[@class=\"result_text\"]/text()'\n",
    "full = '//td[@class=\"result_text\"]/a'\n",
    "movies = tree.body.xpath(full)\n"
   ]
  },
  {
   "cell_type": "code",
   "execution_count": 44,
   "metadata": {
    "autoscroll": "json-false",
    "collapsed": false,
    "ein.tags": [
     "worksheet-0"
    ]
   },
   "outputs": [
    {
     "name": "stdout",
     "output_type": "stream",
     "text": [
      "{'href': '/title/tt3170832/?ref_=fn_al_tt_1'}\n",
      "{'href': '/title/tt0417096/?ref_=fn_al_tt_2'}\n",
      "{'href': '/title/tt0481321/?ref_=fn_al_tt_3'}\n",
      "{'href': '/title/tt4062536/?ref_=fn_al_tt_4'}\n",
      "{'href': '/title/tt0368226/?ref_=fn_al_tt_5'}\n",
      "{'href': '/title/tt3952108/?ref_=fn_al_tt_6'}\n",
      "{'href': '/title/tt2381111/?ref_=fn_al_tt_7'}\n",
      "{'href': '/title/tt3482062/?ref_=fn_al_tt_8'}\n",
      "{'href': '/title/tt3832914/?ref_=fn_al_tt_9'}\n",
      "{'href': '/title/tt2467372/?ref_=fn_al_tt_10'}\n",
      "{'href': '/name/nm2395937/?ref_=fn_al_nm_1'}\n",
      "{'href': '/keyword/room/?ref_=fn_al_kw_1'}\n",
      "{'href': '/company/co0538730/?ref_=fn_al_co_1'}\n",
      "{'href': '/company/co0277535/?ref_=fn_al_co_2'}\n",
      "{'href': '/company/co0482292/?ref_=fn_al_co_3'}\n",
      "{'href': '/company/co0367303/?ref_=fn_al_co_4'}\n",
      "{'href': '/company/co0482449/?ref_=fn_al_co_5'}\n"
     ]
    }
   ],
   "source": [
    "for a in movies:\n",
    "    print a.attrib"
   ]
  },
  {
   "cell_type": "code",
   "execution_count": 0,
   "metadata": {
    "autoscroll": "json-false",
    "collapsed": false,
    "ein.tags": [
     "worksheet-0"
    ]
   },
   "outputs": [],
   "source": [
    "#get all year links \n",
    "#get 2016 results from first page\n",
    "# get all results from each year\n",
    "oscar_page = 'http://www.imdb.com/awards-central/oscars/'\n"
   ]
  }
 ],
 "metadata": {
  "kernelspec": {
   "display_name": "Python 2",
   "name": "python2"
  },
  "language_info": {
   "codemirror_mode": {
    "name": "ipython",
    "version": 2
   },
   "file_extension": ".py",
   "mimetype": "text/x-python",
   "name": "python",
   "nbconvert_exporter": "python",
   "pygments_lexer": "ipython2",
   "version": "2.7.11"
  },
  "name": "movie_review_scraper.ipynb"
 },
 "nbformat": 4,
 "nbformat_minor": 0
}
